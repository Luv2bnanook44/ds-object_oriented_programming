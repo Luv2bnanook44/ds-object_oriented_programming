{
 "cells": [
  {
   "cell_type": "markdown",
   "metadata": {},
   "source": [
    "# Deeper into Python"
   ]
  },
  {
   "cell_type": "code",
   "execution_count": 8,
   "metadata": {},
   "outputs": [],
   "source": [
    "import numpy as np"
   ]
  },
  {
   "cell_type": "markdown",
   "metadata": {},
   "source": [
    "## `*args` and `**kwargs`"
   ]
  },
  {
   "cell_type": "markdown",
   "metadata": {},
   "source": [
    "### $\\bf{*}$"
   ]
  },
  {
   "cell_type": "markdown",
   "metadata": {},
   "source": [
    "The single-asterisk operator $\\bf{*}$ is used to unpack iterables. Suppose I am building a function that will return the product of inputted numbers. I might start with this:"
   ]
  },
  {
   "cell_type": "code",
   "execution_count": 30,
   "metadata": {},
   "outputs": [],
   "source": [
    "def product(factor1, factor2):\n",
    "    return factor1 * factor2"
   ]
  },
  {
   "cell_type": "markdown",
   "metadata": {},
   "source": [
    "But if I want the product of *three* numbers this function won't do:"
   ]
  },
  {
   "cell_type": "code",
   "execution_count": 31,
   "metadata": {},
   "outputs": [
    {
     "ename": "TypeError",
     "evalue": "product() takes 2 positional arguments but 3 were given",
     "output_type": "error",
     "traceback": [
      "\u001b[0;31m----------------------------------------------------\u001b[0m",
      "\u001b[0;31mTypeError\u001b[0m          Traceback (most recent call last)",
      "\u001b[0;32m<ipython-input-31-1e4a3c60b764>\u001b[0m in \u001b[0;36m<module>\u001b[0;34m\u001b[0m\n\u001b[0;32m----> 1\u001b[0;31m \u001b[0mproduct\u001b[0m\u001b[0;34m(\u001b[0m\u001b[0;36m3\u001b[0m\u001b[0;34m,\u001b[0m \u001b[0;36m5\u001b[0m\u001b[0;34m,\u001b[0m \u001b[0;36m6\u001b[0m\u001b[0;34m)\u001b[0m\u001b[0;34m\u001b[0m\u001b[0;34m\u001b[0m\u001b[0m\n\u001b[0m",
      "\u001b[0;31mTypeError\u001b[0m: product() takes 2 positional arguments but 3 were given"
     ]
    }
   ],
   "source": [
    "product(3, 5, 6)"
   ]
  },
  {
   "cell_type": "markdown",
   "metadata": {},
   "source": [
    "A nice way around this problem is to use the $\\bf{*}$ operator:"
   ]
  },
  {
   "cell_type": "code",
   "execution_count": 36,
   "metadata": {},
   "outputs": [],
   "source": [
    "def product_better(*factors):\n",
    "    out = 1\n",
    "    for f in factors:\n",
    "        out *= f\n",
    "    return out"
   ]
  },
  {
   "cell_type": "markdown",
   "metadata": {},
   "source": [
    "Now I can input as many numbers as I want!"
   ]
  },
  {
   "cell_type": "code",
   "execution_count": 41,
   "metadata": {},
   "outputs": [
    {
     "data": {
      "text/plain": [
       "2"
      ]
     },
     "execution_count": 41,
     "metadata": {},
     "output_type": "execute_result"
    }
   ],
   "source": [
    "product_better(2)"
   ]
  },
  {
   "cell_type": "code",
   "execution_count": 42,
   "metadata": {},
   "outputs": [
    {
     "data": {
      "text/plain": [
       "8"
      ]
     },
     "execution_count": 42,
     "metadata": {},
     "output_type": "execute_result"
    }
   ],
   "source": [
    "product_better(2, 4)"
   ]
  },
  {
   "cell_type": "code",
   "execution_count": 43,
   "metadata": {},
   "outputs": [
    {
     "data": {
      "text/plain": [
       "32768"
      ]
     },
     "execution_count": 43,
     "metadata": {},
     "output_type": "execute_result"
    }
   ],
   "source": [
    "product_better(2, 4, 8, 16, 32)"
   ]
  },
  {
   "cell_type": "markdown",
   "metadata": {},
   "source": [
    "### $\\bf{**}$\n",
    "\n",
    "The double-asterisk operator $\\bf{**}$ is used for *key-word* arguments, i.e. named arguments."
   ]
  },
  {
   "cell_type": "code",
   "execution_count": 61,
   "metadata": {},
   "outputs": [],
   "source": [
    "def report(**kwargs):\n",
    "    return '\\n'.join(kwargs.values())"
   ]
  },
  {
   "cell_type": "code",
   "execution_count": 62,
   "metadata": {},
   "outputs": [
    {
     "name": "stdout",
     "output_type": "stream",
     "text": [
      "Greg\n",
      "he/him\n",
      "American\n"
     ]
    }
   ],
   "source": [
    "print(report(name='Greg', pronouns='he/him',\n",
    "       nationality='American'))"
   ]
  },
  {
   "cell_type": "markdown",
   "metadata": {},
   "source": [
    "Look at the subtle difference here:"
   ]
  },
  {
   "cell_type": "code",
   "execution_count": 63,
   "metadata": {},
   "outputs": [],
   "source": [
    "def greet(number=8):\n",
    "    return f'Hello, {number}!'"
   ]
  },
  {
   "cell_type": "code",
   "execution_count": 64,
   "metadata": {},
   "outputs": [],
   "source": [
    "np.random.seed(42)\n",
    "\n",
    "dicts = [{'number': np.random.choice(np.arange(1, 11))} for num in range(10)]"
   ]
  },
  {
   "cell_type": "code",
   "execution_count": 65,
   "metadata": {},
   "outputs": [
    {
     "data": {
      "text/plain": [
       "[\"Hello, {'number': 7}!\",\n",
       " \"Hello, {'number': 4}!\",\n",
       " \"Hello, {'number': 8}!\",\n",
       " \"Hello, {'number': 5}!\",\n",
       " \"Hello, {'number': 7}!\",\n",
       " \"Hello, {'number': 10}!\",\n",
       " \"Hello, {'number': 3}!\",\n",
       " \"Hello, {'number': 7}!\",\n",
       " \"Hello, {'number': 8}!\",\n",
       " \"Hello, {'number': 5}!\"]"
      ]
     },
     "execution_count": 65,
     "metadata": {},
     "output_type": "execute_result"
    }
   ],
   "source": [
    "[greet(number) for number in dicts]"
   ]
  },
  {
   "cell_type": "code",
   "execution_count": 66,
   "metadata": {},
   "outputs": [
    {
     "data": {
      "text/plain": [
       "['Hello, 7!',\n",
       " 'Hello, 4!',\n",
       " 'Hello, 8!',\n",
       " 'Hello, 5!',\n",
       " 'Hello, 7!',\n",
       " 'Hello, 10!',\n",
       " 'Hello, 3!',\n",
       " 'Hello, 7!',\n",
       " 'Hello, 8!',\n",
       " 'Hello, 5!']"
      ]
     },
     "execution_count": 66,
     "metadata": {},
     "output_type": "execute_result"
    }
   ],
   "source": [
    "[greet(**number) for number in dicts]"
   ]
  },
  {
   "cell_type": "markdown",
   "metadata": {},
   "source": [
    "For more on \\*args and \\*\\*kwargs see [this page](https://realpython.com/python-kwargs-and-args/)."
   ]
  },
  {
   "cell_type": "markdown",
   "metadata": {},
   "source": [
    "## Decorators\n",
    "\n",
    "Using a decorator on a function definition is like:\n",
    "\n",
    "function = decorator(function)"
   ]
  },
  {
   "cell_type": "code",
   "execution_count": 67,
   "metadata": {},
   "outputs": [],
   "source": [
    "# defining a decorator \n",
    "def hello_decorator(func): \n",
    "  \n",
    "    # inner1 is a Wrapper function in  \n",
    "    # which the argument of the main\n",
    "    # function is called \n",
    "      \n",
    "    # inner function can access the outer local \n",
    "    # functions\n",
    "    \n",
    "    def inner1(): \n",
    "        print(\"Hello, this is before function execution\") \n",
    "  \n",
    "        # calling the actual function now \n",
    "        # inside the wrapper function. \n",
    "        func() \n",
    "  \n",
    "        print(\"This is after function execution\") \n",
    "          \n",
    "    return inner1"
   ]
  },
  {
   "cell_type": "code",
   "execution_count": 69,
   "metadata": {},
   "outputs": [],
   "source": [
    "# defining a function, to be called inside wrapper \n",
    "\n",
    "def function_to_be_passed(): \n",
    "    print(\"This is inside the function !!\") \n",
    "    \n",
    "    \n",
    "# passing 'function_to_be_used' inside the \n",
    "# decorator to control its behavior \n",
    "composite_function = hello_decorator(function_to_be_passed) \n"
   ]
  },
  {
   "cell_type": "code",
   "execution_count": 70,
   "metadata": {},
   "outputs": [
    {
     "name": "stdout",
     "output_type": "stream",
     "text": [
      "Hello, this is before function execution\n",
      "This is inside the function !!\n",
      "This is after function execution\n"
     ]
    }
   ],
   "source": [
    "# calling the function\n",
    "composite_function() "
   ]
  },
  {
   "cell_type": "code",
   "execution_count": 71,
   "metadata": {},
   "outputs": [],
   "source": [
    "#redefining this\n",
    "\n",
    "@hello_decorator\n",
    "def function_to_be_used():\n",
    "    print(\"<<<also in the function>>>\")"
   ]
  },
  {
   "cell_type": "code",
   "execution_count": 72,
   "metadata": {},
   "outputs": [
    {
     "name": "stdout",
     "output_type": "stream",
     "text": [
      "Hello, this is before function execution\n",
      "<<<also in the function>>>\n",
      "This is after function execution\n"
     ]
    }
   ],
   "source": [
    "function_to_be_used()"
   ]
  },
  {
   "cell_type": "code",
   "execution_count": 76,
   "metadata": {},
   "outputs": [],
   "source": [
    "def example_decorator(func):\n",
    "    print('before function')\n",
    "    func()\n",
    "    print('after function')"
   ]
  },
  {
   "cell_type": "code",
   "execution_count": 77,
   "metadata": {
    "scrolled": true
   },
   "outputs": [
    {
     "name": "stdout",
     "output_type": "stream",
     "text": [
      "before function\n",
      "after function\n"
     ]
    }
   ],
   "source": [
    "@example_decorator\n",
    "def example_function_below_decorator():\n",
    "    return 'hello world'"
   ]
  },
  {
   "cell_type": "code",
   "execution_count": 78,
   "metadata": {},
   "outputs": [
    {
     "ename": "TypeError",
     "evalue": "'NoneType' object is not callable",
     "output_type": "error",
     "traceback": [
      "\u001b[0;31m----------------------------------------------------\u001b[0m",
      "\u001b[0;31mTypeError\u001b[0m          Traceback (most recent call last)",
      "\u001b[0;32m<ipython-input-78-7e702e3ab418>\u001b[0m in \u001b[0;36m<module>\u001b[0;34m\u001b[0m\n\u001b[0;32m----> 1\u001b[0;31m \u001b[0mexample_function_below_decorator\u001b[0m\u001b[0;34m(\u001b[0m\u001b[0;34m)\u001b[0m\u001b[0;34m\u001b[0m\u001b[0;34m\u001b[0m\u001b[0m\n\u001b[0m",
      "\u001b[0;31mTypeError\u001b[0m: 'NoneType' object is not callable"
     ]
    }
   ],
   "source": [
    "example_function_below_decorator()"
   ]
  },
  {
   "cell_type": "markdown",
   "metadata": {},
   "source": [
    "As currently defined, `example_decorator()` returns `None`, which cannot be called. I am trying to run `example_function_below_decorator = example_decorator(example_function_below_decorator)`, but I'll therefore need the decorator to return ***a function***."
   ]
  },
  {
   "cell_type": "code",
   "execution_count": 79,
   "metadata": {},
   "outputs": [],
   "source": [
    "def second_decorator(func):\n",
    "    def inner():\n",
    "        print('before')\n",
    "        func()\n",
    "        print('after')\n",
    "    return inner\n",
    "\n",
    "@second_decorator\n",
    "def example_function_below_second_decorator():\n",
    "    return \"\"\"this time I won't error out\"\"\""
   ]
  },
  {
   "cell_type": "code",
   "execution_count": 80,
   "metadata": {},
   "outputs": [
    {
     "name": "stdout",
     "output_type": "stream",
     "text": [
      "before\n",
      "after\n"
     ]
    }
   ],
   "source": [
    "example_function_below_second_decorator()"
   ]
  },
  {
   "cell_type": "code",
   "execution_count": 84,
   "metadata": {},
   "outputs": [
    {
     "name": "stdout",
     "output_type": "stream",
     "text": [
      "before\n",
      "after\n"
     ]
    },
    {
     "data": {
      "text/plain": [
       "NoneType"
      ]
     },
     "execution_count": 84,
     "metadata": {},
     "output_type": "execute_result"
    }
   ],
   "source": [
    "type(example_function_below_second_decorator())"
   ]
  },
  {
   "cell_type": "markdown",
   "metadata": {},
   "source": [
    "## Property, Get, and Set with Decorators"
   ]
  },
  {
   "cell_type": "code",
   "execution_count": 26,
   "metadata": {},
   "outputs": [],
   "source": [
    "class ExampleClass(object):\n",
    "    def __init__(self):\n",
    "        self._x = None\n",
    "\n",
    "    def getx(self):\n",
    "        return self._x\n",
    "    def setx(self, value):\n",
    "        self._x = value\n",
    "    def delx(self):\n",
    "        del self._x\n",
    "    x = property(getx, setx, delx, \"I'm the 'x' property.\")"
   ]
  },
  {
   "cell_type": "code",
   "execution_count": null,
   "metadata": {},
   "outputs": [],
   "source": []
  },
  {
   "cell_type": "code",
   "execution_count": null,
   "metadata": {},
   "outputs": [],
   "source": []
  },
  {
   "cell_type": "code",
   "execution_count": 29,
   "metadata": {},
   "outputs": [],
   "source": [
    "class Celsius:\n",
    "    def __init__(self, temperature=0):\n",
    "        self._temperature = temperature\n",
    "\n",
    "    def to_fahrenheit(self):\n",
    "        return (self.temperature * 1.8) + 32\n",
    "    \n",
    "    def to_kelvin(self):\n",
    "        return self.temperature + 273\n",
    "    \n",
    "    @property\n",
    "    def temperature(self):\n",
    "        print(\"Getting value\")\n",
    "        return self._temperature\n",
    "\n",
    "    @temperature.setter\n",
    "    def temperature(self, value):\n",
    "        if value < -273:\n",
    "            raise ValueError(\"Temperature below -273 is not possible\")\n",
    "        print(\"Setting value\")\n",
    "        self._temperature = value"
   ]
  },
  {
   "cell_type": "code",
   "execution_count": 30,
   "metadata": {},
   "outputs": [
    {
     "data": {
      "text/plain": [
       "<__main__.Celsius at 0x10aac9080>"
      ]
     },
     "execution_count": 30,
     "metadata": {},
     "output_type": "execute_result"
    }
   ],
   "source": [
    "Celsius(temperature=100)"
   ]
  },
  {
   "cell_type": "code",
   "execution_count": 31,
   "metadata": {},
   "outputs": [],
   "source": [
    "c = Celsius(temperature = 100)"
   ]
  },
  {
   "cell_type": "code",
   "execution_count": 32,
   "metadata": {},
   "outputs": [
    {
     "name": "stdout",
     "output_type": "stream",
     "text": [
      "Getting value\n"
     ]
    },
    {
     "data": {
      "text/plain": [
       "100"
      ]
     },
     "execution_count": 32,
     "metadata": {},
     "output_type": "execute_result"
    }
   ],
   "source": [
    "c.temperature"
   ]
  },
  {
   "cell_type": "code",
   "execution_count": 33,
   "metadata": {},
   "outputs": [],
   "source": [
    "c = Celsius()"
   ]
  },
  {
   "cell_type": "code",
   "execution_count": 34,
   "metadata": {},
   "outputs": [
    {
     "name": "stdout",
     "output_type": "stream",
     "text": [
      "Getting value\n"
     ]
    },
    {
     "data": {
      "text/plain": [
       "0"
      ]
     },
     "execution_count": 34,
     "metadata": {},
     "output_type": "execute_result"
    }
   ],
   "source": [
    "c.temperature"
   ]
  },
  {
   "cell_type": "markdown",
   "metadata": {},
   "source": [
    "# Class Methods and Static Methods"
   ]
  },
  {
   "cell_type": "code",
   "execution_count": null,
   "metadata": {},
   "outputs": [],
   "source": [
    "#going to start with static methods becaues they're very easy.\n",
    "#look at query objects for surrrreeee"
   ]
  },
  {
   "cell_type": "markdown",
   "metadata": {},
   "source": [
    "A static method is a method that you define in a class but doesn't take a default argument.\n",
    "\n",
    "Remember how functions normally take one argument \"self\" <- this is an instance method.\n",
    "\n",
    "The way you differentiate is by using the @staticmethod decorator.\n",
    "\n",
    "This is useful for having a collection of very general functions."
   ]
  },
  {
   "cell_type": "code",
   "execution_count": 35,
   "metadata": {},
   "outputs": [],
   "source": [
    "class ExampleClass:\n",
    "    @staticmethod\n",
    "    def some_function(x):\n",
    "        return x+1"
   ]
  },
  {
   "cell_type": "code",
   "execution_count": 36,
   "metadata": {},
   "outputs": [],
   "source": [
    "example_instance = ExampleClass()"
   ]
  },
  {
   "cell_type": "code",
   "execution_count": 37,
   "metadata": {},
   "outputs": [
    {
     "data": {
      "text/plain": [
       "2"
      ]
     },
     "execution_count": 37,
     "metadata": {},
     "output_type": "execute_result"
    }
   ],
   "source": [
    "example_instance.some_function(1)"
   ]
  },
  {
   "cell_type": "code",
   "execution_count": 38,
   "metadata": {},
   "outputs": [],
   "source": [
    "#let's try this without the @staticmethod decorator\n",
    "#think for a minute about what you think is going to happen if I follow the exact same steps\n",
    "class ExampleClass:\n",
    "    def some_function(x):\n",
    "        return x+1"
   ]
  },
  {
   "cell_type": "code",
   "execution_count": 39,
   "metadata": {},
   "outputs": [],
   "source": [
    "example_instance = ExampleClass()"
   ]
  },
  {
   "cell_type": "code",
   "execution_count": 42,
   "metadata": {},
   "outputs": [
    {
     "ename": "TypeError",
     "evalue": "some_function() takes 1 positional argument but 2 were given",
     "output_type": "error",
     "traceback": [
      "\u001b[0;31m---------------------------------------------------------------------------\u001b[0m",
      "\u001b[0;31mTypeError\u001b[0m                                 Traceback (most recent call last)",
      "\u001b[0;32m<ipython-input-42-f5c9917d495a>\u001b[0m in \u001b[0;36m<module>\u001b[0;34m\u001b[0m\n\u001b[0;32m----> 1\u001b[0;31m \u001b[0mexample_instance\u001b[0m\u001b[0;34m.\u001b[0m\u001b[0msome_function\u001b[0m\u001b[0;34m(\u001b[0m\u001b[0;36m1\u001b[0m\u001b[0;34m)\u001b[0m\u001b[0;34m\u001b[0m\u001b[0;34m\u001b[0m\u001b[0m\n\u001b[0m",
      "\u001b[0;31mTypeError\u001b[0m: some_function() takes 1 positional argument but 2 were given"
     ]
    }
   ],
   "source": [
    "example_instance.some_function(1)"
   ]
  },
  {
   "cell_type": "code",
   "execution_count": 43,
   "metadata": {},
   "outputs": [
    {
     "ename": "TypeError",
     "evalue": "unsupported operand type(s) for +: 'ExampleClass' and 'int'",
     "output_type": "error",
     "traceback": [
      "\u001b[0;31m---------------------------------------------------------------------------\u001b[0m",
      "\u001b[0;31mTypeError\u001b[0m                                 Traceback (most recent call last)",
      "\u001b[0;32m<ipython-input-43-011e532bd2b2>\u001b[0m in \u001b[0;36m<module>\u001b[0;34m\u001b[0m\n\u001b[0;32m----> 1\u001b[0;31m \u001b[0mexample_instance\u001b[0m\u001b[0;34m.\u001b[0m\u001b[0msome_function\u001b[0m\u001b[0;34m(\u001b[0m\u001b[0;34m)\u001b[0m\u001b[0;34m\u001b[0m\u001b[0;34m\u001b[0m\u001b[0m\n\u001b[0m",
      "\u001b[0;32m<ipython-input-38-658fb9a510b7>\u001b[0m in \u001b[0;36msome_function\u001b[0;34m(x)\u001b[0m\n\u001b[1;32m      3\u001b[0m \u001b[0;32mclass\u001b[0m \u001b[0mExampleClass\u001b[0m\u001b[0;34m:\u001b[0m\u001b[0;34m\u001b[0m\u001b[0;34m\u001b[0m\u001b[0m\n\u001b[1;32m      4\u001b[0m     \u001b[0;32mdef\u001b[0m \u001b[0msome_function\u001b[0m\u001b[0;34m(\u001b[0m\u001b[0mx\u001b[0m\u001b[0;34m)\u001b[0m\u001b[0;34m:\u001b[0m\u001b[0;34m\u001b[0m\u001b[0;34m\u001b[0m\u001b[0m\n\u001b[0;32m----> 5\u001b[0;31m         \u001b[0;32mreturn\u001b[0m \u001b[0mx\u001b[0m\u001b[0;34m+\u001b[0m\u001b[0;36m1\u001b[0m\u001b[0;34m\u001b[0m\u001b[0;34m\u001b[0m\u001b[0m\n\u001b[0m",
      "\u001b[0;31mTypeError\u001b[0m: unsupported operand type(s) for +: 'ExampleClass' and 'int'"
     ]
    }
   ],
   "source": [
    "example_instance.some_function()"
   ]
  },
  {
   "cell_type": "markdown",
   "metadata": {},
   "source": [
    "^^^we expect this error"
   ]
  },
  {
   "cell_type": "code",
   "execution_count": 53,
   "metadata": {},
   "outputs": [],
   "source": [
    "# class methods are useful for calling back to an attribute\n",
    "# you define to the class itself rather than the instance"
   ]
  },
  {
   "cell_type": "code",
   "execution_count": 45,
   "metadata": {},
   "outputs": [],
   "source": [
    "#from __future__ import print_function\n",
    "\n",
    "class Date(object):\n",
    "    def __init__(self, Year, Month, Day):\n",
    "        self.year = Year\n",
    "        self.month = Month\n",
    "        self.day = Day\n",
    "\n",
    "    def __str__(self):\n",
    "        return 'Date({}, {}, {})'.format(self.year, self.month, self.day)\n",
    "\n",
    "    def set_date(self, y, m, d):\n",
    "        self.year = y\n",
    "        self.month = m\n",
    "        self.day = d\n",
    "\n",
    "    @classmethod\n",
    "    def from_str(class_object, date_str):\n",
    "        '''Call as\n",
    "           d = Date.from_str('2013-12-30')\n",
    "        '''\n",
    "        print(class_object)\n",
    "        year, month, day = map(int, date_str.split('-'))\n",
    "        return class_object(year, month, day)"
   ]
  },
  {
   "cell_type": "code",
   "execution_count": 46,
   "metadata": {},
   "outputs": [],
   "source": [
    "new_date = Date('2000','1','1')"
   ]
  },
  {
   "cell_type": "code",
   "execution_count": 47,
   "metadata": {},
   "outputs": [
    {
     "name": "stdout",
     "output_type": "stream",
     "text": [
      "<class '__main__.Date'>\n"
     ]
    }
   ],
   "source": [
    "d = Date.from_str('2013-12-30')"
   ]
  },
  {
   "cell_type": "markdown",
   "metadata": {},
   "source": [
    "If they work the same, why would we have any difference here??\n",
    "\n",
    "Think about this for a minute.\n",
    "\n",
    "There IS a reason."
   ]
  },
  {
   "cell_type": "markdown",
   "metadata": {},
   "source": [
    "@staticmethod function is nothing more than a function defined inside a class. It is callable without instantiating the class first. Its definition is immutable via inheritance.\n",
    "\n",
    "@classmethod function is also callable without instantiating the class, but its definition follows Sub class, not Parent class, via inheritance. That’s because the first argument for @classmethod function must always be cls (class)."
   ]
  },
  {
   "cell_type": "markdown",
   "metadata": {},
   "source": [
    "In other words, inheritance works differently for each.  Not going to go into examples for that now but I can share some useful documentation I found.\n",
    "\n",
    "https://rapd.wordpress.com/2008/07/02/python-staticmethod-vs-classmethod/"
   ]
  },
  {
   "cell_type": "code",
   "execution_count": null,
   "metadata": {},
   "outputs": [],
   "source": [
    "# so this changes if we have subclasses. there's an exercise in learn which I'll have you do."
   ]
  },
  {
   "cell_type": "code",
   "execution_count": 75,
   "metadata": {},
   "outputs": [],
   "source": [
    "class Shape:\n",
    "    def __init__(self, n):\n",
    "        self.n_sides = n\n",
    "    sides = []"
   ]
  },
  {
   "cell_type": "code",
   "execution_count": 64,
   "metadata": {},
   "outputs": [],
   "source": [
    "#Remember inheritance?\n",
    "\n",
    "class Triangle(Shape):\n",
    "    def __init__(self):\n",
    "        Shape.__init__(self, 3)\n",
    "\n",
    "    def findArea(self):\n",
    "        a, b, c = self.sides\n",
    "        # calculate the semi-perimeter\n",
    "        s = (a + b + c) / 2\n",
    "        area = (s*(s-a)*(s-b)*(s-c)) ** 0.5\n",
    "        print('The area of the triangle is %0.2f' %area)"
   ]
  },
  {
   "cell_type": "code",
   "execution_count": 65,
   "metadata": {},
   "outputs": [
    {
     "ename": "TypeError",
     "evalue": "cannot unpack non-iterable NoneType object",
     "output_type": "error",
     "traceback": [
      "\u001b[0;31m---------------------------------------------------------------------------\u001b[0m",
      "\u001b[0;31mTypeError\u001b[0m                                 Traceback (most recent call last)",
      "\u001b[0;32m<ipython-input-65-87f59dc224bb>\u001b[0m in \u001b[0;36m<module>\u001b[0;34m\u001b[0m\n\u001b[1;32m      3\u001b[0m \u001b[0misosc\u001b[0m\u001b[0;34m.\u001b[0m\u001b[0mn_sides\u001b[0m\u001b[0;34m\u001b[0m\u001b[0;34m\u001b[0m\u001b[0m\n\u001b[1;32m      4\u001b[0m \u001b[0;34m\u001b[0m\u001b[0m\n\u001b[0;32m----> 5\u001b[0;31m \u001b[0misosc\u001b[0m\u001b[0;34m.\u001b[0m\u001b[0mfindArea\u001b[0m\u001b[0;34m(\u001b[0m\u001b[0;34m)\u001b[0m\u001b[0;34m\u001b[0m\u001b[0;34m\u001b[0m\u001b[0m\n\u001b[0m",
      "\u001b[0;32m<ipython-input-64-831a899c4ef4>\u001b[0m in \u001b[0;36mfindArea\u001b[0;34m(self)\u001b[0m\n\u001b[1;32m      6\u001b[0m \u001b[0;34m\u001b[0m\u001b[0m\n\u001b[1;32m      7\u001b[0m     \u001b[0;32mdef\u001b[0m \u001b[0mfindArea\u001b[0m\u001b[0;34m(\u001b[0m\u001b[0mself\u001b[0m\u001b[0;34m)\u001b[0m\u001b[0;34m:\u001b[0m\u001b[0;34m\u001b[0m\u001b[0;34m\u001b[0m\u001b[0m\n\u001b[0;32m----> 8\u001b[0;31m         \u001b[0ma\u001b[0m\u001b[0;34m,\u001b[0m \u001b[0mb\u001b[0m\u001b[0;34m,\u001b[0m \u001b[0mc\u001b[0m \u001b[0;34m=\u001b[0m \u001b[0mself\u001b[0m\u001b[0;34m.\u001b[0m\u001b[0msides\u001b[0m\u001b[0;34m\u001b[0m\u001b[0;34m\u001b[0m\u001b[0m\n\u001b[0m\u001b[1;32m      9\u001b[0m         \u001b[0;31m# calculate the semi-perimeter\u001b[0m\u001b[0;34m\u001b[0m\u001b[0;34m\u001b[0m\u001b[0;34m\u001b[0m\u001b[0m\n\u001b[1;32m     10\u001b[0m         \u001b[0ms\u001b[0m \u001b[0;34m=\u001b[0m \u001b[0;34m(\u001b[0m\u001b[0ma\u001b[0m \u001b[0;34m+\u001b[0m \u001b[0mb\u001b[0m \u001b[0;34m+\u001b[0m \u001b[0mc\u001b[0m\u001b[0;34m)\u001b[0m \u001b[0;34m/\u001b[0m \u001b[0;36m2\u001b[0m\u001b[0;34m\u001b[0m\u001b[0;34m\u001b[0m\u001b[0m\n",
      "\u001b[0;31mTypeError\u001b[0m: cannot unpack non-iterable NoneType object"
     ]
    }
   ],
   "source": [
    "isosc = Triangle()\n",
    "\n",
    "isosc.n_sides\n",
    "\n",
    "isosc.findArea()"
   ]
  },
  {
   "cell_type": "markdown",
   "metadata": {},
   "source": [
    "# Domain Model - Building Object Relations"
   ]
  },
  {
   "cell_type": "code",
   "execution_count": 76,
   "metadata": {},
   "outputs": [],
   "source": [
    "class Card():\n",
    "    \n",
    "    _all_cards = ['Ace','King','Queen','Jack']\n",
    "    \n",
    "    def __init__(self,name):\n",
    "        Card._all_cards.append(name)\n",
    "        #note that we're using the class name\n",
    "    \n",
    "    @classmethod\n",
    "    def all_cards(cls):\n",
    "        return(cls._all_cards)"
   ]
  },
  {
   "cell_type": "code",
   "execution_count": 77,
   "metadata": {},
   "outputs": [],
   "source": [
    "two_of_clubs = Card('two_of_clubs')"
   ]
  },
  {
   "cell_type": "code",
   "execution_count": 78,
   "metadata": {},
   "outputs": [],
   "source": [
    "# can we do this with static methods????\n",
    "\n",
    "class Card():\n",
    "    \n",
    "    _all_cards = ['Ace','King','Queen','Jack']\n",
    "    \n",
    "    def __init__(self,name):\n",
    "        Card._all_cards.append(name)\n",
    "        #note that we're using the class name\n",
    "    \n",
    "    @classmethod\n",
    "    def all_cards(cls):\n",
    "        return(cls._all_cards)"
   ]
  },
  {
   "cell_type": "code",
   "execution_count": null,
   "metadata": {},
   "outputs": [],
   "source": []
  },
  {
   "cell_type": "code",
   "execution_count": 79,
   "metadata": {},
   "outputs": [],
   "source": [
    "two_of_clubs = Card('two of clubs')"
   ]
  },
  {
   "cell_type": "code",
   "execution_count": 82,
   "metadata": {},
   "outputs": [
    {
     "data": {
      "text/plain": [
       "['Ace', 'King', 'Queen', 'Jack', 'two of clubs']"
      ]
     },
     "execution_count": 82,
     "metadata": {},
     "output_type": "execute_result"
    }
   ],
   "source": [
    "Card.all_cards()"
   ]
  },
  {
   "cell_type": "markdown",
   "metadata": {},
   "source": [
    "have them do this but instead _all_cards contains \n",
    "the objects themselves.\n",
    "Instantiate ace, king, queen, jack"
   ]
  },
  {
   "cell_type": "markdown",
   "metadata": {},
   "source": [
    "so for this example, we say many cards belong to one overall Card class"
   ]
  },
  {
   "cell_type": "code",
   "execution_count": null,
   "metadata": {},
   "outputs": [],
   "source": []
  }
 ],
 "metadata": {
  "kernelspec": {
   "display_name": "Python 3",
   "language": "python",
   "name": "python3"
  },
  "language_info": {
   "codemirror_mode": {
    "name": "ipython",
    "version": 3
   },
   "file_extension": ".py",
   "mimetype": "text/x-python",
   "name": "python",
   "nbconvert_exporter": "python",
   "pygments_lexer": "ipython3",
   "version": "3.7.2"
  }
 },
 "nbformat": 4,
 "nbformat_minor": 2
}
